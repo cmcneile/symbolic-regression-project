{
 "cells": [
  {
   "cell_type": "markdown",
   "id": "3712dd7c-bee4-451b-a880-6d41b2ddcef9",
   "metadata": {},
   "source": [
    "#  Example of using Symbolic regression\n",
    "\n",
    "https://github.com/MilesCranmer/PySR\n",
    "\n",
    "This is an example of using test data with a knon function with some randon numbers\n",
    "\n",
    "$$\n",
    "y(x) =  2.5382 cos(x) + x^2 - 0.5 \n",
    "$$\n",
    "\n",
    "\n",
    "The function is evaluated over some random points x.\n",
    "\n",
    "The test is whether the symbolic regressio library can reproduce the input function\n"
   ]
  },
  {
   "cell_type": "code",
   "execution_count": null,
   "id": "28124c15-3ee6-4d7f-a27c-85b12f41b544",
   "metadata": {},
   "outputs": [],
   "source": [
    "import numpy as np\n",
    "import time\n",
    "\n",
    "X = 2 * np.random.randn(100, 5)\n",
    "y = 2.5382 * np.cos(X[:, 3]) + X[:, 3] ** 2 - 0.5"
   ]
  },
  {
   "cell_type": "code",
   "execution_count": null,
   "id": "f664287e-e7d3-4b12-ab44-7272b4d7039d",
   "metadata": {},
   "outputs": [],
   "source": [
    "print(y.shape)\n",
    "print(X.shape)"
   ]
  },
  {
   "cell_type": "code",
   "execution_count": null,
   "id": "a8131f00-0ace-4b34-8ffc-f5b5242c3eaa",
   "metadata": {},
   "outputs": [],
   "source": [
    "import matplotlib.pyplot as plt\n",
    "plt.plot(X[:,3],y, \"ro\")\n",
    "plt.title(\"Model function\")\n",
    "plt.xlabel(\"x\")\n",
    "plt.ylabel(\"y\")\n"
   ]
  },
  {
   "cell_type": "markdown",
   "id": "a42d93b4-d885-4d70-bf68-3937bbffb5cd",
   "metadata": {},
   "source": [
    "# Run the symbolic regression code\n",
    "\n",
    "https://pypi.org/project/pysr/\n",
    "\n",
    "The pysr module needs to be installed\n"
   ]
  },
  {
   "cell_type": "code",
   "execution_count": null,
   "id": "5a478a48-2cde-48f9-a1ed-ad16394a0087",
   "metadata": {},
   "outputs": [],
   "source": [
    "from pysr import PySRRegressor\n",
    "\n",
    "model = PySRRegressor(\n",
    "    niterations=40,  # < Increase me for better results\n",
    "    binary_operators=[\"+\", \"*\"],\n",
    "    unary_operators=[\n",
    "        \"cos\",\n",
    "        \"exp\",\n",
    "        \"sin\",\n",
    "        \"inv(x) = 1/x\",\n",
    "        # ^ Custom operator (julia syntax)\n",
    "    ],\n",
    "    extra_sympy_mappings={\"inv\": lambda x: 1 / x},\n",
    "    # ^ Define operator for SymPy as well\n",
    "    loss=\"loss(prediction, target) = (prediction - target)^2\",\n",
    "    # ^ Custom loss function (julia syntax)\n",
    ")"
   ]
  },
  {
   "cell_type": "code",
   "execution_count": null,
   "id": "937d5b22-a3be-4385-aa94-3224b6676f14",
   "metadata": {},
   "outputs": [],
   "source": [
    "t_start =  time.time()\n",
    "model.fit(X, y)\n",
    "t_end = time.time() - t_start\n",
    "\n",
    "#print(f\"Time = {t_end:.2f} s\")"
   ]
  },
  {
   "cell_type": "code",
   "execution_count": null,
   "id": "10c39296-bfa3-4130-992e-f75e5f089b8d",
   "metadata": {},
   "outputs": [],
   "source": [
    "print(f\"Time = {t_end:.2f} s\")"
   ]
  },
  {
   "cell_type": "code",
   "execution_count": null,
   "id": "6977aa42-48e0-44d0-a863-4aaa5aaf7de2",
   "metadata": {},
   "outputs": [],
   "source": [
    "print(model)"
   ]
  },
  {
   "cell_type": "code",
   "execution_count": null,
   "id": "4833f3df-293c-48fc-9264-05198324bcc9",
   "metadata": {},
   "outputs": [],
   "source": []
  },
  {
   "cell_type": "markdown",
   "id": "6d83b27a-6917-4cfb-8554-ebe7748cef61",
   "metadata": {},
   "source": [
    "## Introduction of random noise\n",
    "\n",
    "* we want to investigate how stable the symbolic regression is when some noise is added\n",
    "* as the noise is introduced the symbolic regression may find it difficult to  extract the correct model.\n",
    "* this noise is uncorrelated. Later correlations will be added.\n",
    "\n",
    "$$ y_{model + noise} = y_{model} ( 1 + \\sigma N(0,1)  )  $$\n",
    "\n",
    "where $N(0,1)$ is a random number generator  https://numpy.org/doc/1.15/reference/generated/numpy.random.randn.html\n",
    "\n",
    "The amount of noise is controlled by the parameter $\\sigma$ . "
   ]
  },
  {
   "cell_type": "code",
   "execution_count": null,
   "id": "f05f1a40-24f5-4674-a156-71832ce047fb",
   "metadata": {},
   "outputs": [],
   "source": [
    "# 10 percent random noise\n",
    "noise_amp = 0.1"
   ]
  },
  {
   "cell_type": "code",
   "execution_count": null,
   "id": "baac28d7-acda-4cc4-807a-85f469d36531",
   "metadata": {},
   "outputs": [],
   "source": [
    "\n",
    "noise = np.random.randn(100) * noise_amp"
   ]
  },
  {
   "cell_type": "code",
   "execution_count": null,
   "id": "7a5ffeb0-05bc-46fb-963d-f0958271e9ba",
   "metadata": {},
   "outputs": [],
   "source": [
    "import numpy as np\n",
    "\n",
    "X_noise = 2 * np.random.randn(100,5)\n",
    "y_noise = 2.5382 * np.cos(X_noise[:, 3]) + X_noise[:, 3] ** 2 - 0.5 \n",
    "y_noise = (1 + noise ) * y_noise"
   ]
  },
  {
   "cell_type": "code",
   "execution_count": null,
   "id": "13623c65-ec90-42d3-8c33-2a10da42f204",
   "metadata": {},
   "outputs": [],
   "source": [
    "import matplotlib.pyplot as plt\n",
    "plt.plot(X_noise[:,3],y_noise, \"ro\")\n",
    "plt.title(\"Model function\")\n",
    "plt.xlabel(\"x\")\n",
    "plt.ylabel(\"y\")"
   ]
  },
  {
   "cell_type": "markdown",
   "id": "80c9d5c1-bc2a-40ed-840c-a5ba6f615a3c",
   "metadata": {},
   "source": [
    "## fit the model"
   ]
  },
  {
   "cell_type": "code",
   "execution_count": null,
   "id": "0a2f1f01-73f8-4edc-af78-375f17ed08ed",
   "metadata": {},
   "outputs": [],
   "source": [
    "model_noise = PySRRegressor(\n",
    "    niterations=40,  # < Increase me for better results\n",
    "    binary_operators=[\"+\", \"*\"],\n",
    "    unary_operators=[\n",
    "        \"cos\",\n",
    "        \"exp\",\n",
    "        \"sin\",\n",
    "        \"inv(x) = 1/x\",\n",
    "        # ^ Custom operator (julia syntax)\n",
    "    ],\n",
    "    extra_sympy_mappings={\"inv\": lambda x: 1 / x},\n",
    "    # ^ Define operator for SymPy as well\n",
    "    loss=\"loss(prediction, target) = (prediction - target)^2\",\n",
    "    # ^ Custom loss function (julia syntax)\n",
    ")"
   ]
  },
  {
   "cell_type": "code",
   "execution_count": null,
   "id": "e712e4a5-b71b-4ea8-9956-88d000aad592",
   "metadata": {},
   "outputs": [],
   "source": [
    "model_noise.fit(X, y)"
   ]
  },
  {
   "cell_type": "code",
   "execution_count": null,
   "id": "532f59f7-d071-4a1a-aad9-e16b60a3661f",
   "metadata": {},
   "outputs": [],
   "source": []
  }
 ],
 "metadata": {
  "kernelspec": {
   "display_name": "Python 3 (ipykernel)",
   "language": "python",
   "name": "python3"
  },
  "language_info": {
   "codemirror_mode": {
    "name": "ipython",
    "version": 3
   },
   "file_extension": ".py",
   "mimetype": "text/x-python",
   "name": "python",
   "nbconvert_exporter": "python",
   "pygments_lexer": "ipython3",
   "version": "3.11.7"
  }
 },
 "nbformat": 4,
 "nbformat_minor": 5
}
